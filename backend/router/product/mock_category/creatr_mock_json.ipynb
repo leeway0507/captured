{
 "cells": [
  {
   "cell_type": "code",
   "execution_count": 2,
   "metadata": {},
   "outputs": [],
   "source": [
    "import json "
   ]
  },
  {
   "cell_type": "code",
   "execution_count": 6,
   "metadata": {},
   "outputs": [],
   "source": [
    "l = []\n",
    "for i in range(1,101) :\n",
    "    data = {\n",
    "        \"sku\": i,\n",
    "        \"brand\": \"mock\",\n",
    "        \"productName\": f\"mock-{i}\",\n",
    "        \"productId\": f\"mock-product-id-{i}\",\n",
    "        \"size\": \"200\",\n",
    "        \"price\": 100,\n",
    "        \"shippingFee\": 19000,\n",
    "        \"intl\": True,\n",
    "        \"color\": \"mock\",\n",
    "        \"category\": \"신발\",\n",
    "        \"categorySpec\": \"스니커즈\",\n",
    "        \"imgType\": \"webp\",\n",
    "        \"deploy\": 1\n",
    "    }\n",
    "    l.append(data)"
   ]
  },
  {
   "cell_type": "code",
   "execution_count": 7,
   "metadata": {},
   "outputs": [],
   "source": [
    "with open(\"./category.json\",\"w\") as f :\n",
    "    f.write(json.dumps(l,indent=2, ensure_ascii=False))\n"
   ]
  },
  {
   "cell_type": "code",
   "execution_count": null,
   "metadata": {},
   "outputs": [],
   "source": []
  }
 ],
 "metadata": {
  "kernelspec": {
   "display_name": "Python 3",
   "language": "python",
   "name": "python3"
  },
  "language_info": {
   "codemirror_mode": {
    "name": "ipython",
    "version": 3
   },
   "file_extension": ".py",
   "mimetype": "text/x-python",
   "name": "python",
   "nbconvert_exporter": "python",
   "pygments_lexer": "ipython3",
   "version": "3.11.6"
  }
 },
 "nbformat": 4,
 "nbformat_minor": 2
}
