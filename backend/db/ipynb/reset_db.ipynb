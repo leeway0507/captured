{
  "cells": [
    {
      "cell_type": "code",
      "execution_count": 1,
      "metadata": {},
      "outputs": [
        {
          "name": "stdout",
          "output_type": "stream",
          "text": [
            "Session Connected!\n"
          ]
        }
      ],
      "source": [
        "import sys\n",
        "sys.path.append('../')\n",
        "\n",
        "from sqlalchemy.ext.declarative import declarative_base\n",
        "from sqlalchemy.dialects.mysql import CHAR, INTEGER\n",
        "from sqlalchemy.orm import sessionmaker\n",
        "from sqlalchemy import create_engine, Column,inspect\n",
        "import table\n",
        "# env\n",
        "user = 'admin'\n",
        "password = '1q2w3e4r!'\n",
        "url = \"dodomoards.ccoalf3s8d7c.ap-northeast-2.rds.amazonaws.com\"\n",
        "db_name = 'captured'\n",
        "\n",
        "###############\n",
        "# DB Session using Sqlalchemy.orm\n",
        "SQLALCHEMY_DATABASE_URL = f\"mysql+pymysql://{user}:{password}@{url}:3306/{db_name}\"\n",
        "engine = create_engine(SQLALCHEMY_DATABASE_URL)\n",
        "Session = sessionmaker(bind=engine)\n",
        "session = Session()\n",
        "print(\"Session Connected!\")"
      ]
    },
    {
      "cell_type": "code",
      "execution_count": null,
      "metadata": {},
      "outputs": [],
      "source": [
        "inspector = inspect(engine)\n",
        "inspector.get_columns('kream_product_card')\n",
        "# inspector.get_pk_constraint('kream_product_id')\n",
        "# # inspector.get_indexes('shop_item')\n",
        "# inspector.get_foreign_keys('shop_item')"
      ]
    },
    {
      "attachments": {},
      "cell_type": "markdown",
      "metadata": {},
      "source": [
        "# Run All  방지용"
      ]
    },
    {
      "attachments": {},
      "cell_type": "markdown",
      "metadata": {},
      "source": [
        "# Shop"
      ]
    },
    {
      "attachments": {},
      "cell_type": "markdown",
      "metadata": {},
      "source": [
        "### create"
      ]
    },
    {
      "cell_type": "code",
      "execution_count": 2,
      "metadata": {},
      "outputs": [],
      "source": [
        "table.ProductInfoTable.__table__.create(engine)\n",
        "table.UserTable.__table__.create(engine)\n",
        "table.UserAddressTable.__table__.create(engine)\n",
        "table.OrderHistoryTable.__table__.create(engine)\n",
        "table.OrderRowTable.__table__.create(engine)"
      ]
    },
    {
      "attachments": {},
      "cell_type": "markdown",
      "metadata": {},
      "source": [
        "### drop"
      ]
    },
    {
      "cell_type": "code",
      "execution_count": 4,
      "metadata": {},
      "outputs": [],
      "source": [
        "tables.OrderRowTable.__table__.drop(engine)\n",
        "tables.OrderHistoryTable.__table__.drop(engine)\n",
        "tables.ProductInfoTable.__table__.drop(engine)\n",
        "tables.UserAddressTable.__table__.drop(engine)\n",
        "tables.UserTable.__table__.drop(engine)"
      ]
    }
  ],
  "metadata": {
    "kernelspec": {
      "display_name": "Python 3",
      "language": "python",
      "name": "python3"
    },
    "language_info": {
      "codemirror_mode": {
        "name": "ipython",
        "version": 3
      },
      "file_extension": ".py",
      "mimetype": "text/x-python",
      "name": "python",
      "nbconvert_exporter": "python",
      "pygments_lexer": "ipython3",
      "version": "3.9.1"
    },
    "orig_nbformat": 4
  },
  "nbformat": 4,
  "nbformat_minor": 2
}
