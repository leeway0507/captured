{
  "cells": [
    {
      "cell_type": "code",
      "execution_count": 1,
      "metadata": {},
      "outputs": [
        {
          "name": "stdout",
          "output_type": "stream",
          "text": [
            "Session Connected!\n"
          ]
        }
      ],
      "source": [
        "import sys\n",
        "sys.path.append('../')\n",
        "import pandas as pd\n",
        "from sqlalchemy.ext.declarative import declarative_base\n",
        "from sqlalchemy.dialects.mysql import CHAR, INTEGER\n",
        "from sqlalchemy.orm import sessionmaker\n",
        "from sqlalchemy import create_engine,insert\n",
        "import tables \n",
        "# env\n",
        "DB_USER_NAME=\"root\"\n",
        "DB_PASSWORD=\"\"\n",
        "DB_HOST=\"localhost\"\n",
        "DB_NAME=\"captured_dev\"\n",
        "\n",
        "\n",
        "###############\n",
        "# DB Session using Sqlalchemy.orm\n",
        "SQLALCHEMY_DATABASE_URL = f\"mysql+pymysql://{DB_USER_NAME}:{DB_PASSWORD}@{DB_HOST}:3306/{DB_NAME}\"\n",
        "engine = create_engine(SQLALCHEMY_DATABASE_URL)\n",
        "Session = sessionmaker(bind=engine)\n",
        "session = Session()\n",
        "print(\"Session Connected!\")"
      ]
    },
    {
      "attachments": {},
      "cell_type": "markdown",
      "metadata": {},
      "source": [
        "# Run All  방지용"
      ]
    },
    {
      "attachments": {},
      "cell_type": "markdown",
      "metadata": {},
      "source": [
        "# dev product"
      ]
    },
    {
      "attachments": {},
      "cell_type": "markdown",
      "metadata": {},
      "source": [
        "### table 업데이트 사항 반영"
      ]
    },
    {
      "cell_type": "code",
      "execution_count": 6,
      "metadata": {},
      "outputs": [],
      "source": [
        "# tables.OrderRowTable.__table__.drop(engine)\n",
        "# tables.OrderHistoryTable.__table__.drop(engine)\n",
        "# tables.SizeTable.__table__.drop(engine)\n",
        "# tables.ProductInfoTable.__table__.drop(engine)\n",
        "\n",
        "\n",
        "# tables.ProductInfoTable.__table__.create(engine)\n",
        "# tables.SizeTable.__table__.create(engine)\n",
        "# tables.UserTable.__table__.create(engine)\n",
        "# tables.UserAddressTable.__table__.create(engine)\n",
        "# tables.OrderHistoryTable.__table__.create(engine)\n",
        "# tables.OrderRowTable.__table__.create(engine)\n",
        "\n",
        "# product_info = pd.read_json(\"../update_data/product_info.json\").to_dict(orient=\"records\")\n",
        "# with session as db:\n",
        "#     stmt = insert(tables.ProductInfoTable).values(product_info)\n",
        "#     db.execute(stmt)\n",
        "#     db.commit()\n",
        "\n",
        "\n",
        "# size = pd.read_json(\"../update_data/size.json\").to_dict(orient=\"records\")\n",
        "# with session as db:\n",
        "#     stmt = insert(tables.SizeTable).values(size)\n",
        "#     db.execute(stmt)\n",
        "#     db.commit()\n",
        "# order_history = pd.read_json(\"../update_data/order_history.json\").to_sql(\"order_history\",con=engine,if_exists=\"append\",index=False)\n",
        "# order_row = pd.read_json(\"../update_data/order_row.json\").to_sql(\"order_row\",con=engine,if_exists=\"append\",index=False)"
      ]
    },
    {
      "attachments": {},
      "cell_type": "markdown",
      "metadata": {},
      "source": [
        "### drop"
      ]
    },
    {
      "cell_type": "markdown",
      "metadata": {},
      "source": [
        "### user table setting"
      ]
    },
    {
      "cell_type": "code",
      "execution_count": 4,
      "metadata": {},
      "outputs": [],
      "source": [
        "tables.UserTable.__table__.create(engine)\n",
        "tables.UserAddressTable.__table__.create(engine)\n",
        "tables.OrderHistoryTable.__table__.create(engine)\n",
        "tables.OrderRowTable.__table__.create(engine)\n",
        "\n",
        "# tables.OrderRowTable.__table__.drop(engine)\n",
        "# tables.OrderHistoryTable.__table__.drop(engine)\n",
        "# tables.UserAddressTable.__table__.drop(engine)\n",
        "# tables.UserTable.__table__.drop(engine)"
      ]
    }
  ],
  "metadata": {
    "kernelspec": {
      "display_name": "Python 3",
      "language": "python",
      "name": "python3"
    },
    "language_info": {
      "codemirror_mode": {
        "name": "ipython",
        "version": 3
      },
      "file_extension": ".py",
      "mimetype": "text/x-python",
      "name": "python",
      "nbconvert_exporter": "python",
      "pygments_lexer": "ipython3",
      "version": "3.11.6"
    },
    "orig_nbformat": 4
  },
  "nbformat": 4,
  "nbformat_minor": 2
}
