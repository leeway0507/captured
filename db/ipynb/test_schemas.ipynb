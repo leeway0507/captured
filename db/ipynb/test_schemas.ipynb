{
 "cells": [
  {
   "cell_type": "code",
   "execution_count": 7,
   "metadata": {},
   "outputs": [
    {
     "name": "stdout",
     "output_type": "stream",
     "text": [
      "query executing 0.18492 sec\n"
     ]
    }
   ],
   "source": [
    "import sys\n",
    "sys.path.append('../')\n",
    "from time import time\n",
    "from sqlalchemy import create_engine\n",
    "from sqlalchemy.orm import sessionmaker\n",
    "from sqlalchemy.orm.session import Session\n",
    "import pandas as pd\n",
    "\n",
    "def conn_engine(username: str, password: str, host: str, db_name: str, **_kwargs):\n",
    "    db_url = f\"mysql+pymysql://{username}:{password}@{host}:3306/{db_name}\"\n",
    "    return create_engine(db_url)\n",
    "\n",
    "def connect_db(username: str, password: str, host: str, db_name: str, **_kwargs) -> Session:\n",
    "\n",
    "    engine = conn_engine(username, password, host, db_name)\n",
    "    session_local = sessionmaker(bind=engine)\n",
    "    return session_local()\n",
    "\n",
    "secret = {\n",
    "        \"username\": \"admin\",\n",
    "        \"password\": \"1q2w3e4r!\",\n",
    "        \"host\": \"dodomoards.ccoalf3s8d7c.ap-northeast-2.rds.amazonaws.com\",\n",
    "        \"db_name\": \"captured\",\n",
    "    }\n",
    "\n",
    "def execute_query(query):\n",
    "    \"\"\"esecute_query\"\"\"\n",
    "    db_session = connect_db(**secret)\n",
    "    result_list = db_session.execute(query)\n",
    "    if db_session.is_active:\n",
    "        db_session.close()\n",
    "    return list(result_list)\n",
    "\n",
    "s_1 = time()\n",
    "x = execute_query(\"SELECT * FROM product_info \")\n",
    "s_2 = time()\n",
    "\n",
    "print(\"query executing\", f\"{s_2 - s_1:.5f} sec\")\n"
   ]
  },
  {
   "cell_type": "markdown",
   "metadata": {},
   "source": [
    "### update or insert Query"
   ]
  },
  {
   "cell_type": "code",
   "execution_count": 2,
   "metadata": {},
   "outputs": [],
   "source": [
    "from tables import ProductInfoTable, SizeTable\n",
    "from sqlalchemy import func,case\n",
    "session = connect_db(**secret)"
   ]
  },
  {
   "cell_type": "markdown",
   "metadata": {},
   "source": [
    "### update"
   ]
  },
  {
   "cell_type": "code",
   "execution_count": 10,
   "metadata": {},
   "outputs": [],
   "source": [
    "df = pd.DataFrame(x)"
   ]
  },
  {
   "cell_type": "code",
   "execution_count": 11,
   "metadata": {},
   "outputs": [],
   "source": [
    "# session.rollback()"
   ]
  },
  {
   "cell_type": "code",
   "execution_count": 21,
   "metadata": {},
   "outputs": [],
   "source": [
    "price_asc_cursor = [str(10**11-int(str(y[0]).zfill(7) + str(y[1]).zfill(5))) for y in df[['price','sku']].values]\n",
    "price_desc_cursor = [(str(y[0]).zfill(7) + str(y[1]).zfill(5)) for y in df[['price','sku']].values]"
   ]
  },
  {
   "cell_type": "code",
   "execution_count": 22,
   "metadata": {},
   "outputs": [],
   "source": [
    "df['price_asc_cursor'] = price_asc_cursor\n",
    "df['price_desc_cursor'] = price_desc_cursor"
   ]
  },
  {
   "cell_type": "code",
   "execution_count": 25,
   "metadata": {},
   "outputs": [],
   "source": [
    "session.bulk_update_mappings(ProductInfoTable, df.to_dict(orient='records'))\n",
    "session.commit()"
   ]
  }
 ],
 "metadata": {
  "kernelspec": {
   "display_name": "Python 3",
   "language": "python",
   "name": "python3"
  },
  "language_info": {
   "codemirror_mode": {
    "name": "ipython",
    "version": 3
   },
   "file_extension": ".py",
   "mimetype": "text/x-python",
   "name": "python",
   "nbconvert_exporter": "python",
   "pygments_lexer": "ipython3",
   "version": "3.9.1"
  },
  "orig_nbformat": 4
 },
 "nbformat": 4,
 "nbformat_minor": 2
}
