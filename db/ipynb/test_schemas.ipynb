{
 "cells": [
  {
   "cell_type": "code",
   "execution_count": 7,
   "metadata": {},
   "outputs": [],
   "source": [
    "from connection import connect_db,get_secret\n",
    "import pandas as pd"
   ]
  },
  {
   "cell_type": "code",
   "execution_count": 4,
   "metadata": {},
   "outputs": [],
   "source": [
    "db = connect_db(**get_secret())\n",
    "\n",
    "l = list(db.execute('SELECT * FROM kream_product_card limit 1'))"
   ]
  },
  {
   "cell_type": "code",
   "execution_count": 9,
   "metadata": {},
   "outputs": [
    {
     "data": {
      "text/html": [
       "<div>\n",
       "<style scoped>\n",
       "    .dataframe tbody tr th:only-of-type {\n",
       "        vertical-align: middle;\n",
       "    }\n",
       "\n",
       "    .dataframe tbody tr th {\n",
       "        vertical-align: top;\n",
       "    }\n",
       "\n",
       "    .dataframe thead th {\n",
       "        text-align: right;\n",
       "    }\n",
       "</style>\n",
       "<table border=\"1\" class=\"dataframe\">\n",
       "  <thead>\n",
       "    <tr style=\"text-align: right;\">\n",
       "      <th></th>\n",
       "      <th>kream_id</th>\n",
       "      <th>brand_name</th>\n",
       "      <th>product_name</th>\n",
       "      <th>product_img</th>\n",
       "      <th>init_price</th>\n",
       "      <th>product_release_date</th>\n",
       "      <th>item_type</th>\n",
       "    </tr>\n",
       "  </thead>\n",
       "  <tbody>\n",
       "    <tr>\n",
       "      <th>0</th>\n",
       "      <td>3</td>\n",
       "      <td>Vans</td>\n",
       "      <td>Vans Vault OG Classic Slip-On LX Checkerboard</td>\n",
       "      <td>https://kream-phinf.pstatic.net/MjAyMDEwMjJfMT...</td>\n",
       "      <td>89,000원</td>\n",
       "      <td>15/03/22</td>\n",
       "      <td>vans test</td>\n",
       "    </tr>\n",
       "  </tbody>\n",
       "</table>\n",
       "</div>"
      ],
      "text/plain": [
       "   kream_id brand_name                                   product_name  \\\n",
       "0         3       Vans  Vans Vault OG Classic Slip-On LX Checkerboard   \n",
       "\n",
       "                                         product_img init_price  \\\n",
       "0  https://kream-phinf.pstatic.net/MjAyMDEwMjJfMT...    89,000원   \n",
       "\n",
       "  product_release_date  item_type  \n",
       "0             15/03/22  vans test  "
      ]
     },
     "execution_count": 9,
     "metadata": {},
     "output_type": "execute_result"
    }
   ],
   "source": []
  }
 ],
 "metadata": {
  "kernelspec": {
   "display_name": "Python 3",
   "language": "python",
   "name": "python3"
  },
  "language_info": {
   "codemirror_mode": {
    "name": "ipython",
    "version": 3
   },
   "file_extension": ".py",
   "mimetype": "text/x-python",
   "name": "python",
   "nbconvert_exporter": "python",
   "pygments_lexer": "ipython3",
   "version": "3.9.1"
  },
  "orig_nbformat": 4
 },
 "nbformat": 4,
 "nbformat_minor": 2
}
