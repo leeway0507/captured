{
 "cells": [
  {
   "cell_type": "code",
   "execution_count": 5,
   "metadata": {},
   "outputs": [
    {
     "name": "stdout",
     "output_type": "stream",
     "text": [
      "query executing 0.15868 sec\n"
     ]
    }
   ],
   "source": [
    "import sys\n",
    "sys.path.append('../')\n",
    "from time import time\n",
    "from sqlalchemy import create_engine\n",
    "from sqlalchemy.orm import sessionmaker\n",
    "from sqlalchemy.orm.session import Session\n",
    "\n",
    "def conn_engine(username: str, password: str, host: str, db_name: str, **_kwargs):\n",
    "    db_url = f\"mysql+pymysql://{username}:{password}@{host}:3306/{db_name}\"\n",
    "    return create_engine(db_url)\n",
    "\n",
    "def connect_db(username: str, password: str, host: str, db_name: str, **_kwargs) -> Session:\n",
    "\n",
    "    engine = conn_engine(username, password, host, db_name)\n",
    "    session_local = sessionmaker(bind=engine)\n",
    "    return session_local()\n",
    "\n",
    "secret = {\n",
    "        \"username\": \"admin\",\n",
    "        \"password\": \"1q2w3e4r!\",\n",
    "        \"host\": \"dodomoards.ccoalf3s8d7c.ap-northeast-2.rds.amazonaws.com\",\n",
    "        \"db_name\": \"captured\",\n",
    "    }\n",
    "\n",
    "def execute_query(query):\n",
    "    \"\"\"esecute_query\"\"\"\n",
    "    db_session = connect_db(**secret)\n",
    "    result_list = db_session.execute(query)\n",
    "    if db_session.is_active:\n",
    "        db_session.close()\n",
    "    return list(result_list)\n",
    "\n",
    "s_1 = time()\n",
    "x = execute_query(\"SELECT * FROM product_info \")\n",
    "s_2 = time()\n",
    "\n",
    "print(\"query executing\", f\"{s_2 - s_1:.5f} sec\")\n"
   ]
  },
  {
   "cell_type": "code",
   "execution_count": 4,
   "metadata": {},
   "outputs": [],
   "source": [
    "import pandas as pd\n",
    "\n",
    "df = pd.DataFrame(x)\n",
    "df['size'] = df['size'].apply(lambda x: eval(x))"
   ]
  },
  {
   "cell_type": "code",
   "execution_count": 13,
   "metadata": {},
   "outputs": [],
   "source": [
    "df = df.explode('size')\n",
    "\n",
    "df = df[['sku','size']]\n",
    "\n",
    "df = df.drop_duplicates()"
   ]
  },
  {
   "cell_type": "code",
   "execution_count": 23,
   "metadata": {},
   "outputs": [],
   "source": [
    "from datetime import datetime\n",
    "df['available'] = True\n",
    "df['updated_at'] = datetime.now().strftime(\"%Y-%m-%d %H:%M:%S\")"
   ]
  },
  {
   "cell_type": "code",
   "execution_count": 26,
   "metadata": {},
   "outputs": [
    {
     "data": {
      "text/plain": [
       "228"
      ]
     },
     "execution_count": 26,
     "metadata": {},
     "output_type": "execute_result"
    }
   ],
   "source": [
    "df.to_sql('size', conn_engine(**secret), if_exists='append', index=False)"
   ]
  },
  {
   "cell_type": "code",
   "execution_count": 50,
   "metadata": {},
   "outputs": [],
   "source": [
    "from tables import ProductInfoTable, SizeTable\n",
    "from sqlalchemy import func,case\n",
    "session = connect_db(**secret)"
   ]
  },
  {
   "cell_type": "code",
   "execution_count": 106,
   "metadata": {},
   "outputs": [
    {
     "name": "stdout",
     "output_type": "stream",
     "text": [
      "89\n",
      "87\n",
      "86\n",
      "84\n",
      "83\n"
     ]
    }
   ],
   "source": [
    "result = (\n",
    "    session.query(ProductInfoTable)\n",
    "    .join(SizeTable, ProductInfoTable.sku == SizeTable.sku)\n",
    "    .filter(ProductInfoTable.sku < 90)\n",
    "    .filter(SizeTable.size.in_(['230','290']))\n",
    "    .group_by(ProductInfoTable.sku)\n",
    "    .order_by(ProductInfoTable.sku.desc())\n",
    "    .limit(5)\n",
    "    .all()\n",
    ")\n",
    "\n",
    "# Print the result\n",
    "for row in result:\n",
    "    print(row.sku) "
   ]
  },
  {
   "cell_type": "code",
   "execution_count": 101,
   "metadata": {},
   "outputs": [
    {
     "data": {
      "text/plain": [
       "[('230,235,240,245,250',),\n",
       " ('230,235,240,245,250,255,260',),\n",
       " ('230,235,280,285,290',)]"
      ]
     },
     "execution_count": 101,
     "metadata": {},
     "output_type": "execute_result"
    }
   ],
   "source": [
    "session.query(func.group_concat(SizeTable.size).label('concatenated_values')).filter(SizeTable.sku.in_([1,2,3])).group_by(SizeTable.sku).all()"
   ]
  },
  {
   "cell_type": "code",
   "execution_count": 110,
   "metadata": {},
   "outputs": [
    {
     "name": "stdout",
     "output_type": "stream",
     "text": [
      "[(83, '230,235,260,250,225,245,240,285,280,295,270,255'), (84, '255,270,280,265,230,240,285,295,235,220'), (86, '275,235,240,270,295,230,255,280,250,225'), (87, '230,265,220,255,235,300'), (89, '285,235,275,255,295,290,245,280,240,260')]\n"
     ]
    }
   ],
   "source": [
    "from sqlalchemy import func\n",
    "\n",
    "# Assuming session and ProductInfoTable, SizeTable are already defined\n",
    "\n",
    "# First Query\n",
    "result = (\n",
    "    session.query(ProductInfoTable)\n",
    "    .join(SizeTable, ProductInfoTable.sku == SizeTable.sku)\n",
    "    .filter(ProductInfoTable.sku < 90)\n",
    "    .filter(SizeTable.size.in_(['230', '290']))\n",
    "    .group_by(ProductInfoTable.sku)\n",
    "    .order_by(ProductInfoTable.sku.desc())\n",
    "    .limit(5)\n",
    "    .all()\n",
    ")\n",
    "\n",
    "# Extract SKUs from the first result\n",
    "sku_list = [row.sku for row in result]\n",
    "\n",
    "# Second Query\n",
    "second_result = (\n",
    "    session.query(SizeTable.sku, func.group_concat(SizeTable.size).label('concatenated_values'))\n",
    "    .filter(SizeTable.sku.in_(sku_list))\n",
    "    .group_by(SizeTable.sku)\n",
    "    .all()\n",
    ")\n",
    "\n",
    "# Combine esults in Python\n",
    "final_result = [(row[0], row[1]) for row in second_result]\n",
    "\n",
    "print(final_result)\n"
   ]
  },
  {
   "cell_type": "code",
   "execution_count": 121,
   "metadata": {},
   "outputs": [
    {
     "name": "stdout",
     "output_type": "stream",
     "text": [
      "2 4\n"
     ]
    }
   ],
   "source": [
    "# brand category 쉬움\n",
    "# price 쉬움\n",
    "# 사이즈 근본적으로 join이 들어가야함\n",
    "# 사이즈가 있고 없고에 따라서 또 조건이 생김\n",
    "\n",
    "# 1. 사이즈가 필터가 있는 경우 => join 으로\n",
    "# 2. 사이즈 필터가 없는 경우 => join 없이 \n",
    "\n",
    "\n",
    "x = {1:2,3:4}\n"
   ]
  }
 ],
 "metadata": {
  "kernelspec": {
   "display_name": "Python 3",
   "language": "python",
   "name": "python3"
  },
  "language_info": {
   "codemirror_mode": {
    "name": "ipython",
    "version": 3
   },
   "file_extension": ".py",
   "mimetype": "text/x-python",
   "name": "python",
   "nbconvert_exporter": "python",
   "pygments_lexer": "ipython3",
   "version": "3.9.1"
  },
  "orig_nbformat": 4
 },
 "nbformat": 4,
 "nbformat_minor": 2
}
