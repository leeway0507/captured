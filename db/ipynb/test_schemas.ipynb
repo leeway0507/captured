{
 "cells": [
  {
   "cell_type": "code",
   "execution_count": 7,
   "metadata": {},
   "outputs": [
    {
     "name": "stdout",
     "output_type": "stream",
     "text": [
      "query executing 0.58247 sec\n"
     ]
    }
   ],
   "source": [
    "import sys\n",
    "sys.path.append('../')\n",
    "from time import time\n",
    "from sqlalchemy import create_engine\n",
    "from sqlalchemy.orm import sessionmaker\n",
    "from sqlalchemy.orm.session import Session\n",
    "\n",
    "def conn_engine(username: str, password: str, host: str, db_name: str, **_kwargs):\n",
    "    db_url = f\"mysql+pymysql://{username}:{password}@{host}:3306/{db_name}\"\n",
    "    return create_engine(db_url)\n",
    "\n",
    "def connect_db(username: str, password: str, host: str, db_name: str, **_kwargs) -> Session:\n",
    "\n",
    "    engine = conn_engine(username, password, host, db_name)\n",
    "    session_local = sessionmaker(bind=engine)\n",
    "    return session_local()\n",
    "\n",
    "secret = {\n",
    "        \"username\": \"admin\",\n",
    "        \"password\": \"1q2w3e4r!\",\n",
    "        \"host\": \"dodomoards.ccoalf3s8d7c.ap-northeast-2.rds.amazonaws.com\",\n",
    "        \"db_name\": \"captured\",\n",
    "    }\n",
    "\n",
    "def execute_query(query):\n",
    "    \"\"\"esecute_query\"\"\"\n",
    "    db_session = connect_db(**secret)\n",
    "    result_list = db_session.execute(query)\n",
    "    if db_session.is_active:\n",
    "        db_session.close()\n",
    "    return list(result_list)\n",
    "\n",
    "s_1 = time()\n",
    "x = execute_query(\"SELECT * FROM product_info \")\n",
    "s_2 = time()\n",
    "\n",
    "print(\"query executing\", f\"{s_2 - s_1:.5f} sec\")\n"
   ]
  },
  {
   "cell_type": "code",
   "execution_count": 10,
   "metadata": {},
   "outputs": [],
   "source": [
    "product_list = [  {\n",
    "      \"sku\": 1,\n",
    "      \"brand\": \"adidas originals\",\n",
    "      \"productName\": \"tobacco pantone mesa\",\n",
    "      \"productId\": \"gy7396\",\n",
    "      \"size\": \"['230', '235', '240', '245', '250']\",\n",
    "      \"price\": 179000,\n",
    "      \"shippingFee\": 19000,\n",
    "      \"intl\": False,\n",
    "      \"color\": \"['pantone mesa brown']\",\n",
    "      \"category\": \"신발\",\n",
    "      \"imgType\": \"avif\"\n",
    "    },\n",
    "    {\n",
    "      \"sku\": 2,\n",
    "      \"brand\": \"adidas originals\",\n",
    "      \"productName\": \"handball spezial black\",\n",
    "      \"productId\": \"db3021\",\n",
    "      \"size\": \"['230', '235', '240', '245', '250', '255', '260']\",\n",
    "      \"price\": 149000,\n",
    "      \"shippingFee\": 19000,\n",
    "      \"intl\": False,\n",
    "      \"color\": \"['black', 'white']\",\n",
    "      \"category\": \"신발\",\n",
    "      \"imgType\": \"avif\"\n",
    "    },\n",
    "    {\n",
    "      \"sku\": 3,\n",
    "      \"brand\": \"nike\",\n",
    "      \"productName\": \"jacquemus force black\",\n",
    "      \"productId\": \"DR0424-001\",\n",
    "      \"size\": \"['230', '235', '280', '285', '290']\",\n",
    "      \"price\": 225000,\n",
    "      \"shippingFee\": 19000,\n",
    "      \"intl\": False,\n",
    "      \"color\": \"['black']\",\n",
    "      \"category\": \"신발\",\n",
    "      \"imgType\": \"webp\"\n",
    "    }]"
   ]
  },
  {
   "cell_type": "code",
   "execution_count": 13,
   "metadata": {},
   "outputs": [
    {
     "name": "stdout",
     "output_type": "stream",
     "text": [
      "[{'category': '신발', 'size': ['290', '245', '235', '230', '260', '285', '250', '255', '280', '240']}]\n"
     ]
    }
   ],
   "source": [
    "from collections import defaultdict\n",
    "category_sizes = defaultdict(set)\n",
    "\n",
    "for product in product_list:\n",
    "    category = product[\"category\"]\n",
    "    size = product[\"size\"]\n",
    "    category_sizes[category].update(eval(size))\n",
    "\n",
    "size_array = [\n",
    "    {\n",
    "        \"category\": category,\n",
    "        \"size\": list(sizes),\n",
    "        # \"default_size\": product_json[\"size_type\"][category],\n",
    "    }\n",
    "    for category, sizes in category_sizes.items()\n",
    "]\n",
    "\n",
    "print(size_array)"
   ]
  }
 ],
 "metadata": {
  "kernelspec": {
   "display_name": "Python 3",
   "language": "python",
   "name": "python3"
  },
  "language_info": {
   "codemirror_mode": {
    "name": "ipython",
    "version": 3
   },
   "file_extension": ".py",
   "mimetype": "text/x-python",
   "name": "python",
   "nbconvert_exporter": "python",
   "pygments_lexer": "ipython3",
   "version": "3.9.1"
  },
  "orig_nbformat": 4
 },
 "nbformat": 4,
 "nbformat_minor": 2
}
